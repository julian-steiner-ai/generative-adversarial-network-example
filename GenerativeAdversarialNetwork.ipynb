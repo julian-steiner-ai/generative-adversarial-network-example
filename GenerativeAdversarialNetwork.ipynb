{
 "cells": [
  {
   "attachments": {},
   "cell_type": "markdown",
   "metadata": {},
   "source": [
    "# Generative Adversarial Network"
   ]
  },
  {
   "cell_type": "code",
   "execution_count": 4,
   "metadata": {},
   "outputs": [],
   "source": [
    "import ndjson\n",
    "import numpy as np\n",
    "import matplotlib.pyplot as plt\n",
    "\n",
    "from os import mkdir, walk\n",
    "from os.path import join, exists\n",
    "from PIL import Image, ImageDraw\n",
    "\n",
    "from src.model.GAN import GAN"
   ]
  },
  {
   "attachments": {},
   "cell_type": "markdown",
   "metadata": {},
   "source": [
    "## Data"
   ]
  },
  {
   "attachments": {},
   "cell_type": "markdown",
   "metadata": {},
   "source": [
    "### Load Training Data"
   ]
  },
  {
   "cell_type": "code",
   "execution_count": 8,
   "metadata": {},
   "outputs": [],
   "source": [
    "def load_images_from_npy_file(directory, n_images):\n",
    "    mypath = join(\"./data\", directory)\n",
    "    txt_name_list = []\n",
    "    for (dirpath, dirnames, filenames) in walk(mypath):\n",
    "        for f in filenames:\n",
    "            if f != '.DS_Store':\n",
    "                txt_name_list.append(f)\n",
    "                break\n",
    "\n",
    "    slice_train = int(n_images/len(txt_name_list))\n",
    "    i = 0\n",
    "    seed = np.random.randint(1, 10e6)\n",
    "\n",
    "    for txt_name in txt_name_list:\n",
    "        txt_path = join(mypath,txt_name)\n",
    "        x = np.load(txt_path)\n",
    "        x = (x.astype('float32') - 127.5) / 127.5\n",
    "        \n",
    "        x = x.reshape(x.shape[0], 28, 28, 1)\n",
    "        \n",
    "        y = [i] * len(x)  \n",
    "        \n",
    "        np.random.seed(seed)\n",
    "        np.random.shuffle(x)\n",
    "        \n",
    "        np.random.seed(seed)\n",
    "        np.random.shuffle(y)\n",
    "\n",
    "        x = x[:slice_train]\n",
    "        y = y[:slice_train]\n",
    "        \n",
    "        if i != 0: \n",
    "            x_total = np.concatenate((x,x_total), axis=0)\n",
    "            y_total = np.concatenate((y,y_total), axis=0)\n",
    "        else:\n",
    "            x_total = x\n",
    "            y_total = y\n",
    "        i += 1\n",
    "        \n",
    "    return x_total, y_total"
   ]
  },
  {
   "cell_type": "code",
   "execution_count": 9,
   "metadata": {},
   "outputs": [],
   "source": [
    "(x_train, y_train) = load_images_from_npy_file('camel', 80000)"
   ]
  },
  {
   "attachments": {},
   "cell_type": "markdown",
   "metadata": {},
   "source": [
    "## GAN Architecture"
   ]
  },
  {
   "cell_type": "code",
   "execution_count": null,
   "metadata": {},
   "outputs": [],
   "source": [
    "gan = GAN(\n",
    "    input_dim = (28,28,1),\n",
    "    discriminator_conv_filters = [64,64,128,128],\n",
    "    discriminator_conv_kernel_size = [5,5,5,5],\n",
    "    discriminator_conv_strides = [2,2,2,1],\n",
    "    discriminator_batch_norm_momentum = None,\n",
    "    discriminator_activation = 'relu',\n",
    "    discriminator_dropout_rate = 0.4,\n",
    "    discriminator_learning_rate = 0.0008,\n",
    "    generator_initial_dense_layer_size = (7, 7, 64),\n",
    "    generator_upsample = [2,2, 1, 1],\n",
    "    generator_conv_filters = [128,64, 64,1],\n",
    "    generator_conv_kernel_size = [5,5,5,5],\n",
    "    generator_conv_strides = [1,1, 1, 1],\n",
    "    generator_batch_norm_momentum = 0.9,\n",
    "    generator_activation = 'relu',\n",
    "    generator_dropout_rate = None,\n",
    "    generator_learning_rate = 0.0004,\n",
    "    optimizer = 'rmsprop',\n",
    "    z_dim = 100,\n",
    ")"
   ]
  },
  {
   "cell_type": "code",
   "execution_count": null,
   "metadata": {},
   "outputs": [],
   "source": [
    "gan.discriminator.summary()"
   ]
  },
  {
   "cell_type": "code",
   "execution_count": null,
   "metadata": {},
   "outputs": [],
   "source": [
    "gan.generator.summary()"
   ]
  },
  {
   "attachments": {},
   "cell_type": "markdown",
   "metadata": {},
   "source": [
    "## Train GAN"
   ]
  },
  {
   "cell_type": "code",
   "execution_count": null,
   "metadata": {},
   "outputs": [],
   "source": [
    "BATCH_SIZE = 64\n",
    "EPOCHS = 6000\n",
    "PRINT_EVERY_N_BATCHES = 5"
   ]
  },
  {
   "cell_type": "code",
   "execution_count": null,
   "metadata": {},
   "outputs": [],
   "source": [
    "gan.train(     \n",
    "    x_train,\n",
    "    batch_size = BATCH_SIZE,\n",
    "    epochs = EPOCHS,\n",
    "    print_every_n_batches = PRINT_EVERY_N_BATCHES\n",
    ")"
   ]
  },
  {
   "cell_type": "code",
   "execution_count": null,
   "metadata": {},
   "outputs": [],
   "source": [
    "fig = plt.figure()\n",
    "plt.plot([x['d_loss'] for x in gan.discriminator_losses], color='black', linewidth=0.25)\n",
    "\n",
    "plt.plot([x['d_loss_real'] for x in gan.discriminator_losses], color='green', linewidth=0.25)\n",
    "plt.plot([x['d_loss_fake'] for x in gan.discriminator_losses], color='red', linewidth=0.25)\n",
    "plt.plot([x['d_loss'] for x in gan.discriminator_losses], color='orange', linewidth=0.25)\n",
    "\n",
    "plt.xlabel('batch', fontsize=18)\n",
    "plt.ylabel('loss', fontsize=16)\n",
    "\n",
    "plt.xlim(0, 2000)\n",
    "plt.ylim(0, 2)\n",
    "\n",
    "plt.show()"
   ]
  },
  {
   "cell_type": "code",
   "execution_count": null,
   "metadata": {},
   "outputs": [],
   "source": [
    "fig = plt.figure()\n",
    "plt.plot([x['d_acc'] for x in gan.discriminator_losses], color='black', linewidth=0.25)\n",
    "plt.plot([x['d_acc_real'] for x in gan.discriminator_losses], color='green', linewidth=0.25)\n",
    "plt.plot([x['d_acc_fake'] for x in gan.discriminator_losses], color='red', linewidth=0.25)\n",
    "plt.plot([x['d_loss_real'] for x in gan.discriminator_losses], color='orange', linewidth=0.25)\n",
    "\n",
    "plt.xlabel('batch', fontsize=18)\n",
    "plt.ylabel('accuracy', fontsize=16)\n",
    "\n",
    "plt.xlim(0, 2000)\n",
    "\n",
    "plt.show()"
   ]
  },
  {
   "cell_type": "code",
   "execution_count": null,
   "metadata": {},
   "outputs": [],
   "source": [
    "r, c = 5, 5\n",
    "noise = np.random.normal(0, 1, (r * c, gan.z_dim))\n",
    "gen_imgs = gan.generator.predict(noise)\n",
    "\n",
    "fig, axs = plt.subplots(r, c, figsize=(15,15))\n",
    "cnt = 0\n",
    "\n",
    "for i in range(r):\n",
    "    for j in range(c):\n",
    "        axs[i,j].imshow(np.squeeze(gen_imgs[cnt, :,:,:]), cmap = 'gray')\n",
    "        axs[i,j].axis('off')\n",
    "        cnt += 1\n",
    "\n",
    "fig.show()"
   ]
  },
  {
   "cell_type": "code",
   "execution_count": null,
   "metadata": {},
   "outputs": [],
   "source": [
    "import pickle as pkl"
   ]
  },
  {
   "cell_type": "code",
   "execution_count": null,
   "metadata": {},
   "outputs": [],
   "source": [
    "def save_gan():\n",
    "    with open(join('./model', 'params.pkl'), 'wb') as f:\n",
    "        pkl.dump([\n",
    "            gan.input_dim,\n",
    "            gan.discriminator_conv_filters,\n",
    "            gan.discriminator_conv_kernel_size,\n",
    "            gan.discriminator_conv_strides,\n",
    "            gan.discriminator_batch_norm_momentum,\n",
    "            gan.discriminator_activation,\n",
    "            gan.discriminator_dropout_rate,\n",
    "            gan.discriminator_learning_rate,\n",
    "            gan.generator_initial_dense_layer_size,\n",
    "            gan.generator_upsample,\n",
    "            gan.generator_conv_filters,\n",
    "            gan.generator_conv_kernel_size,\n",
    "            gan.generator_conv_strides,\n",
    "            gan.generator_batch_norm_momentum,\n",
    "            gan.generator_activation,\n",
    "            gan.generator_dropout_rate,\n",
    "            gan.generator_learning_rate,\n",
    "            gan.optimizer_str,\n",
    "            gan.z_dim,\n",
    "        ], f)\n",
    "    \n",
    "    gan.model.save(join('./model', 'model.h5'))\n",
    "    gan.discriminator.save(join('./model', 'discriminator.h5'))\n",
    "    gan.generator.save(join('./model', 'generator.h5'))"
   ]
  },
  {
   "cell_type": "code",
   "execution_count": null,
   "metadata": {},
   "outputs": [],
   "source": [
    "save_gan()"
   ]
  }
 ],
 "metadata": {
  "kernelspec": {
   "display_name": "Python 3",
   "language": "python",
   "name": "python3"
  },
  "language_info": {
   "codemirror_mode": {
    "name": "ipython",
    "version": 3
   },
   "file_extension": ".py",
   "mimetype": "text/x-python",
   "name": "python",
   "nbconvert_exporter": "python",
   "pygments_lexer": "ipython3",
   "version": "3.10.9"
  },
  "orig_nbformat": 4
 },
 "nbformat": 4,
 "nbformat_minor": 2
}
